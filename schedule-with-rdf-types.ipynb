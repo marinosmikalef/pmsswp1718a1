{
 "cells": [
  {
   "cell_type": "markdown",
   "metadata": {
    "deletable": true,
    "editable": true
   },
   "source": [
    "# Μετατρέποντας στη μορφή N-Triples\n",
    "\n",
    "Ολοκληρώνουμε την κατασκευή του ωρολογίου προγράμματος, μετατρέποντας τις τριάδες στο πρότυπο μορφότυπο [N-Triples](http://www.w3.org/TR/n-triples/).\n",
    "\n",
    "## 1. Φορτώστε τις τριάδες\n",
    "\n",
    "Βάλτε σε μια λίστα τις τριάδες από το τελικό csv του προηγούμενου εργαστηρίου. Αυτές θα πρέπει:\n",
    "\n",
    "* Να χρησιμοποιούν URIs με νόμιμους χαρακτήρες\n",
    "* Να έχουν σημειωμένους τους ανώνυμους κόμβους με το πρόθεμα `_:`\n",
    "* Όλα τα URIs να έχουν τη μορφή http URIs\n",
    "\n",
    "    * `http://dilab77.ionio.gr/swp/you/vocab#` για τα κατηγορήματα\n",
    "    * `http://dilab77.ionio.gr/swp/you/resource/` για τα υπόλοιπα URIs\n",
    "    \n",
    "    όπου you πρέπει να είναι το username που έχετε στο JupyterHub.\n",
    "   "
   ]
  },
  {
   "cell_type": "code",
   "execution_count": 121,
   "metadata": {
    "collapsed": false,
    "deletable": true,
    "editable": true
   },
   "outputs": [
    {
     "name": "stdout",
     "output_type": "stream",
     "text": [
      "[['_:1', 'http://dilab77.ionio.gr/swp/c16mika/vocab#Ημέρα', 'Δευτέρα'], ['_:1', 'http://dilab77.ionio.gr/swp/c16mika/vocab#Έναρξη', '15:00'], ['_:1', 'http://dilab77.ionio.gr/swp/c16mika/vocab#Λήξη', '18:00'], ['_:1', 'http://dilab77.ionio.gr/swp/c16mika/vocab#Διδάσκων%20', 'http://dilab77.ionio.gr/swp/c16mika/resource/Β.%20Κομιανός'], ['_:1', 'http://dilab77.ionio.gr/swp/c16mika/vocab#Μάθημα', 'http://dilab77.ionio.gr/swp/c16mika/resource/Ψυχαγωγικό%20Λογισμικό'], ['_:1', 'http://dilab77.ionio.gr/swp/c16mika/vocab#Αίθουσα', 'http://dilab77.ionio.gr/swp/c16mika/resource/1'], ['_:2', 'http://dilab77.ionio.gr/swp/c16mika/vocab#Ημέρα', 'Δευτέρα'], ['_:2', 'http://dilab77.ionio.gr/swp/c16mika/vocab#Έναρξη', '18:00'], ['_:2', 'http://dilab77.ionio.gr/swp/c16mika/vocab#Λήξη', '21:00'], ['_:2', 'http://dilab77.ionio.gr/swp/c16mika/vocab#Διδάσκων%20', 'http://dilab77.ionio.gr/swp/c16mika/resource/Α.Τσώχου'], ['_:2', 'http://dilab77.ionio.gr/swp/c16mika/vocab#Μάθημα', 'http://dilab77.ionio.gr/swp/c16mika/resource/Ασφάλεια%20Πληροφοριακών%20Συστημάτων%20και%20δικτύων'], ['_:2', 'http://dilab77.ionio.gr/swp/c16mika/vocab#Αίθουσα', 'http://dilab77.ionio.gr/swp/c16mika/resource/Εργαστήριο%20Γαληνός'], ['_:3', 'http://dilab77.ionio.gr/swp/c16mika/vocab#Ημέρα', 'Τρίτη'], ['_:3', 'http://dilab77.ionio.gr/swp/c16mika/vocab#Έναρξη', '15:00'], ['_:3', 'http://dilab77.ionio.gr/swp/c16mika/vocab#Λήξη', '15:00'], ['_:3', 'http://dilab77.ionio.gr/swp/c16mika/vocab#Διδάσκων%20', 'http://dilab77.ionio.gr/swp/c16mika/resource/Μ.Στεφανιδάκης'], ['_:3', 'http://dilab77.ionio.gr/swp/c16mika/vocab#Μάθημα', 'http://dilab77.ionio.gr/swp/c16mika/resource/Προγραμματισμός%20σημασιολογικού%20Ιστού'], ['_:3', 'http://dilab77.ionio.gr/swp/c16mika/vocab#Αίθουσα', 'http://dilab77.ionio.gr/swp/c16mika/resource/Εργαστήριο%20Αρεταίος'], ['_:4', 'http://dilab77.ionio.gr/swp/c16mika/vocab#Ημέρα', 'Τρίτη'], ['_:4', 'http://dilab77.ionio.gr/swp/c16mika/vocab#Έναρξη', '18:00'], ['_:4', 'http://dilab77.ionio.gr/swp/c16mika/vocab#Λήξη', '18:00'], ['_:4', 'http://dilab77.ionio.gr/swp/c16mika/vocab#Διδάσκων%20', 'http://dilab77.ionio.gr/swp/c16mika/resource/Π.Βλάμος'], ['_:4', 'http://dilab77.ionio.gr/swp/c16mika/vocab#Μάθημα', 'http://dilab77.ionio.gr/swp/c16mika/resource/Βιοπληροφορική'], ['_:4', 'http://dilab77.ionio.gr/swp/c16mika/vocab#Αίθουσα', 'http://dilab77.ionio.gr/swp/c16mika/resource/2'], ['_:5', 'http://dilab77.ionio.gr/swp/c16mika/vocab#Ημέρα', 'Τετάρτη'], ['_:5', 'http://dilab77.ionio.gr/swp/c16mika/vocab#Έναρξη', '15:00'], ['_:5', 'http://dilab77.ionio.gr/swp/c16mika/vocab#Λήξη', '15:00'], ['_:5', 'http://dilab77.ionio.gr/swp/c16mika/vocab#Διδάσκων%20', 'http://dilab77.ionio.gr/swp/c16mika/resource/Α.Πατέλη'], ['_:5', 'http://dilab77.ionio.gr/swp/c16mika/vocab#Μάθημα', 'http://dilab77.ionio.gr/swp/c16mika/resource/Ηλεκτρονική%20Επιχειρηματικότητα'], ['_:5', 'http://dilab77.ionio.gr/swp/c16mika/vocab#Αίθουσα', 'http://dilab77.ionio.gr/swp/c16mika/resource/2'], ['_:6', 'http://dilab77.ionio.gr/swp/c16mika/vocab#Ημέρα', 'Τετάρτη'], ['_:6', 'http://dilab77.ionio.gr/swp/c16mika/vocab#Έναρξη', '18:00'], ['_:6', 'http://dilab77.ionio.gr/swp/c16mika/vocab#Λήξη', '18:00'], ['_:6', 'http://dilab77.ionio.gr/swp/c16mika/vocab#Διδάσκων%20', 'http://dilab77.ionio.gr/swp/c16mika/resource/Μ.Αυλωνίτης'], ['_:6', 'http://dilab77.ionio.gr/swp/c16mika/vocab#Μάθημα', 'http://dilab77.ionio.gr/swp/c16mika/resource/Προσομοίωση%20και%20Μοντελοποίηση'], ['_:6', 'http://dilab77.ionio.gr/swp/c16mika/vocab#Αίθουσα', 'http://dilab77.ionio.gr/swp/c16mika/resource/2'], ['_:7', 'http://dilab77.ionio.gr/swp/c16mika/vocab#Ημέρα', 'Πέμπτη'], ['_:7', 'http://dilab77.ionio.gr/swp/c16mika/vocab#Έναρξη', '15:00'], ['_:7', 'http://dilab77.ionio.gr/swp/c16mika/vocab#Λήξη', '15:00'], ['_:7', 'http://dilab77.ionio.gr/swp/c16mika/vocab#Διδάσκων%20', 'http://dilab77.ionio.gr/swp/c16mika/resource/Φ.Μυλωνάς'], ['_:7', 'http://dilab77.ionio.gr/swp/c16mika/vocab#Μάθημα', 'http://dilab77.ionio.gr/swp/c16mika/resource/Εξόρυξη%20Δεδομένων%20και%20Διαχείρηση%20Γνώσης'], ['_:7', 'http://dilab77.ionio.gr/swp/c16mika/vocab#Αίθουσα', 'http://dilab77.ionio.gr/swp/c16mika/resource/3']]\n"
     ]
    }
   ],
   "source": [
    "import csv\n",
    "list = []\n",
    "with open('eav.csv','r',newline='') as ifp:\n",
    "    reader = csv.reader(ifp)\n",
    "    for row in reader:\n",
    "         list.append(row)\n",
    "print(list)\n"
   ]
  },
  {
   "cell_type": "markdown",
   "metadata": {
    "deletable": true,
    "editable": true
   },
   "source": [
    "## 2. Καθορίστε τους τύπους δεδομένων\n",
    "\n",
    "Οι απλές τιμές (literals) πρέπει να μετατραπούν σε **έγκυρη σύνταξη N-Triples**. Μέσω της Python\n",
    "\n",
    "* Εκφράστε τις ημέρες και το εξάμηνο σε απλά strings (π.χ. `\"Δευτέρα\"`).\n",
    "* Μετατρέψτε τις ώρες στο τύπο `xsd:time`.\n",
    "* Όλα τα URIs πρέπει να είναι μέσα σε `< >`.\n",
    "\n",
    "Ανατρέξτε στις διαφάνειες της τρέχουσας ενότητας για τη σωστή σύνταξη των προηγούμενων!\n",
    "\n",
    "**Σημείωση:** Ο τύπος `xsd:time` **πρέπει υποχρεωτικά** να έχει τη μορφή (ώρα, λεπτά, δευτερόλεπτα), π.χ. `\"18:00:00\"^^<http://www.w3.org/2001/XMLSchema#time>`."
   ]
  },
  {
   "cell_type": "code",
   "execution_count": 122,
   "metadata": {
    "collapsed": false,
    "deletable": true,
    "editable": true
   },
   "outputs": [
    {
     "name": "stdout",
     "output_type": "stream",
     "text": [
      "[['_:1', '<http://dilab77.ionio.gr/swp/c16mika/vocab#Ημέρα>', '\"Δευτέρα\"'], ['_:1', '<http://dilab77.ionio.gr/swp/c16mika/vocab#Έναρξη>', '\"15:00:00\"^^<http://www.w3.org/2001/XMLSchema#time>'], ['_:1', '<http://dilab77.ionio.gr/swp/c16mika/vocab#Λήξη>', '\"18:00:00\"^^<http://www.w3.org/2001/XMLSchema#time>'], ['_:1', '<http://dilab77.ionio.gr/swp/c16mika/vocab#Διδάσκων%20>', '<http://dilab77.ionio.gr/swp/c16mika/resource/Β.%20Κομιανός>'], ['_:1', '<http://dilab77.ionio.gr/swp/c16mika/vocab#Μάθημα>', '<http://dilab77.ionio.gr/swp/c16mika/resource/Ψυχαγωγικό%20Λογισμικό>'], ['_:1', '<http://dilab77.ionio.gr/swp/c16mika/vocab#Αίθουσα>', '<http://dilab77.ionio.gr/swp/c16mika/resource/1>'], ['_:2', '<http://dilab77.ionio.gr/swp/c16mika/vocab#Ημέρα>', '\"Δευτέρα\"'], ['_:2', '<http://dilab77.ionio.gr/swp/c16mika/vocab#Έναρξη>', '\"18:00:00\"^^<http://www.w3.org/2001/XMLSchema#time>'], ['_:2', '<http://dilab77.ionio.gr/swp/c16mika/vocab#Λήξη>', '\"21:00:00\"^^<http://www.w3.org/2001/XMLSchema#time>'], ['_:2', '<http://dilab77.ionio.gr/swp/c16mika/vocab#Διδάσκων%20>', '<http://dilab77.ionio.gr/swp/c16mika/resource/Α.Τσώχου>'], ['_:2', '<http://dilab77.ionio.gr/swp/c16mika/vocab#Μάθημα>', '<http://dilab77.ionio.gr/swp/c16mika/resource/Ασφάλεια%20Πληροφοριακών%20Συστημάτων%20και%20δικτύων>'], ['_:2', '<http://dilab77.ionio.gr/swp/c16mika/vocab#Αίθουσα>', '<http://dilab77.ionio.gr/swp/c16mika/resource/Εργαστήριο%20Γαληνός>'], ['_:3', '<http://dilab77.ionio.gr/swp/c16mika/vocab#Ημέρα>', '\"Τρίτη\"'], ['_:3', '<http://dilab77.ionio.gr/swp/c16mika/vocab#Έναρξη>', '\"15:00:00\"^^<http://www.w3.org/2001/XMLSchema#time>'], ['_:3', '<http://dilab77.ionio.gr/swp/c16mika/vocab#Λήξη>', '\"15:00:00\"^^<http://www.w3.org/2001/XMLSchema#time>'], ['_:3', '<http://dilab77.ionio.gr/swp/c16mika/vocab#Διδάσκων%20>', '<http://dilab77.ionio.gr/swp/c16mika/resource/Μ.Στεφανιδάκης>'], ['_:3', '<http://dilab77.ionio.gr/swp/c16mika/vocab#Μάθημα>', '<http://dilab77.ionio.gr/swp/c16mika/resource/Προγραμματισμός%20σημασιολογικού%20Ιστού>'], ['_:3', '<http://dilab77.ionio.gr/swp/c16mika/vocab#Αίθουσα>', '<http://dilab77.ionio.gr/swp/c16mika/resource/Εργαστήριο%20Αρεταίος>'], ['_:4', '<http://dilab77.ionio.gr/swp/c16mika/vocab#Ημέρα>', '\"Τρίτη\"'], ['_:4', '<http://dilab77.ionio.gr/swp/c16mika/vocab#Έναρξη>', '\"18:00:00\"^^<http://www.w3.org/2001/XMLSchema#time>'], ['_:4', '<http://dilab77.ionio.gr/swp/c16mika/vocab#Λήξη>', '\"18:00:00\"^^<http://www.w3.org/2001/XMLSchema#time>'], ['_:4', '<http://dilab77.ionio.gr/swp/c16mika/vocab#Διδάσκων%20>', '<http://dilab77.ionio.gr/swp/c16mika/resource/Π.Βλάμος>'], ['_:4', '<http://dilab77.ionio.gr/swp/c16mika/vocab#Μάθημα>', '<http://dilab77.ionio.gr/swp/c16mika/resource/Βιοπληροφορική>'], ['_:4', '<http://dilab77.ionio.gr/swp/c16mika/vocab#Αίθουσα>', '<http://dilab77.ionio.gr/swp/c16mika/resource/2>'], ['_:5', '<http://dilab77.ionio.gr/swp/c16mika/vocab#Ημέρα>', '\"Τετάρτη\"'], ['_:5', '<http://dilab77.ionio.gr/swp/c16mika/vocab#Έναρξη>', '\"15:00:00\"^^<http://www.w3.org/2001/XMLSchema#time>'], ['_:5', '<http://dilab77.ionio.gr/swp/c16mika/vocab#Λήξη>', '\"15:00:00\"^^<http://www.w3.org/2001/XMLSchema#time>'], ['_:5', '<http://dilab77.ionio.gr/swp/c16mika/vocab#Διδάσκων%20>', '<http://dilab77.ionio.gr/swp/c16mika/resource/Α.Πατέλη>'], ['_:5', '<http://dilab77.ionio.gr/swp/c16mika/vocab#Μάθημα>', '<http://dilab77.ionio.gr/swp/c16mika/resource/Ηλεκτρονική%20Επιχειρηματικότητα>'], ['_:5', '<http://dilab77.ionio.gr/swp/c16mika/vocab#Αίθουσα>', '<http://dilab77.ionio.gr/swp/c16mika/resource/2>'], ['_:6', '<http://dilab77.ionio.gr/swp/c16mika/vocab#Ημέρα>', '\"Τετάρτη\"'], ['_:6', '<http://dilab77.ionio.gr/swp/c16mika/vocab#Έναρξη>', '\"18:00:00\"^^<http://www.w3.org/2001/XMLSchema#time>'], ['_:6', '<http://dilab77.ionio.gr/swp/c16mika/vocab#Λήξη>', '\"18:00:00\"^^<http://www.w3.org/2001/XMLSchema#time>'], ['_:6', '<http://dilab77.ionio.gr/swp/c16mika/vocab#Διδάσκων%20>', '<http://dilab77.ionio.gr/swp/c16mika/resource/Μ.Αυλωνίτης>'], ['_:6', '<http://dilab77.ionio.gr/swp/c16mika/vocab#Μάθημα>', '<http://dilab77.ionio.gr/swp/c16mika/resource/Προσομοίωση%20και%20Μοντελοποίηση>'], ['_:6', '<http://dilab77.ionio.gr/swp/c16mika/vocab#Αίθουσα>', '<http://dilab77.ionio.gr/swp/c16mika/resource/2>'], ['_:7', '<http://dilab77.ionio.gr/swp/c16mika/vocab#Ημέρα>', '\"Πέμπτη\"'], ['_:7', '<http://dilab77.ionio.gr/swp/c16mika/vocab#Έναρξη>', '\"15:00:00\"^^<http://www.w3.org/2001/XMLSchema#time>'], ['_:7', '<http://dilab77.ionio.gr/swp/c16mika/vocab#Λήξη>', '\"15:00:00\"^^<http://www.w3.org/2001/XMLSchema#time>'], ['_:7', '<http://dilab77.ionio.gr/swp/c16mika/vocab#Διδάσκων%20>', '<http://dilab77.ionio.gr/swp/c16mika/resource/Φ.Μυλωνάς>'], ['_:7', '<http://dilab77.ionio.gr/swp/c16mika/vocab#Μάθημα>', '<http://dilab77.ionio.gr/swp/c16mika/resource/Εξόρυξη%20Δεδομένων%20και%20Διαχείρηση%20Γνώσης>'], ['_:7', '<http://dilab77.ionio.gr/swp/c16mika/vocab#Αίθουσα>', '<http://dilab77.ionio.gr/swp/c16mika/resource/3>'], ['<http://dilab77.ionio.gr/swp/c16mika/resource/3>', '<http://www.w3.org/1999/02/22-rdf-syntax-ns#type>', '<http://dilab77.ionio.gr/swp/c16mika/vocab#Αίθουσα>'], ['<http://dilab77.ionio.gr/swp/c16mika/resource/3>', '<http://www.w3.org/1999/02/22-rdf-syntax-ns#type>', '<http://dilab77.ionio.gr/swp/c16mika/vocab#Αίθουσα>'], ['<http://dilab77.ionio.gr/swp/c16mika/resource/3>', '<http://www.w3.org/1999/02/22-rdf-syntax-ns#type>', '<http://dilab77.ionio.gr/swp/c16mika/vocab#Αίθουσα>'], ['<http://dilab77.ionio.gr/swp/c16mika/resource/Β.%20Κομιανός>', '<http://www.w3.org/1999/02/22-rdf-syntax-ns#type>', '<http://dilab77.ionio.gr/swp/c16mika/vocab#Διδάσκων%20>'], ['<http://dilab77.ionio.gr/swp/c16mika/resource/Ψυχαγωγικό%20Λογισμικό>', '<http://www.w3.org/1999/02/22-rdf-syntax-ns#type>', '<http://dilab77.ionio.gr/swp/c16mika/vocab#Διδάσκων%20>'], ['<http://dilab77.ionio.gr/swp/c16mika/resource/1>', '<http://www.w3.org/1999/02/22-rdf-syntax-ns#type>', '<http://dilab77.ionio.gr/swp/c16mika/vocab#Αίθουσα>'], ['<http://dilab77.ionio.gr/swp/c16mika/resource/1>', '<http://www.w3.org/1999/02/22-rdf-syntax-ns#type>', '<http://dilab77.ionio.gr/swp/c16mika/vocab#Αίθουσα>'], ['<http://dilab77.ionio.gr/swp/c16mika/resource/1>', '<http://www.w3.org/1999/02/22-rdf-syntax-ns#type>', '<http://dilab77.ionio.gr/swp/c16mika/vocab#Αίθουσα>'], ['<http://dilab77.ionio.gr/swp/c16mika/resource/1>', '<http://www.w3.org/1999/02/22-rdf-syntax-ns#type>', '<http://dilab77.ionio.gr/swp/c16mika/vocab#Αίθουσα>'], ['<http://dilab77.ionio.gr/swp/c16mika/resource/Α.Τσώχου>', '<http://www.w3.org/1999/02/22-rdf-syntax-ns#type>', '<http://dilab77.ionio.gr/swp/c16mika/vocab#Διδάσκων%20>'], ['<http://dilab77.ionio.gr/swp/c16mika/resource/Ασφάλεια%20Πληροφοριακών%20Συστημάτων%20και%20δικτύων>', '<http://www.w3.org/1999/02/22-rdf-syntax-ns#type>', '<http://dilab77.ionio.gr/swp/c16mika/vocab#Διδάσκων%20>'], ['<http://dilab77.ionio.gr/swp/c16mika/resource/Εργαστήριο%20Γαληνός>', '<http://www.w3.org/1999/02/22-rdf-syntax-ns#type>', '<http://dilab77.ionio.gr/swp/c16mika/vocab#Αίθουσα>'], ['<http://dilab77.ionio.gr/swp/c16mika/resource/Εργαστήριο%20Γαληνός>', '<http://www.w3.org/1999/02/22-rdf-syntax-ns#type>', '<http://dilab77.ionio.gr/swp/c16mika/vocab#Αίθουσα>'], ['<http://dilab77.ionio.gr/swp/c16mika/resource/Εργαστήριο%20Γαληνός>', '<http://www.w3.org/1999/02/22-rdf-syntax-ns#type>', '<http://dilab77.ionio.gr/swp/c16mika/vocab#Αίθουσα>'], ['<http://dilab77.ionio.gr/swp/c16mika/resource/Εργαστήριο%20Γαληνός>', '<http://www.w3.org/1999/02/22-rdf-syntax-ns#type>', '<http://dilab77.ionio.gr/swp/c16mika/vocab#Αίθουσα>'], ['<http://dilab77.ionio.gr/swp/c16mika/resource/Μ.Στεφανιδάκης>', '<http://www.w3.org/1999/02/22-rdf-syntax-ns#type>', '<http://dilab77.ionio.gr/swp/c16mika/vocab#Διδάσκων%20>'], ['<http://dilab77.ionio.gr/swp/c16mika/resource/Προγραμματισμός%20σημασιολογικού%20Ιστού>', '<http://www.w3.org/1999/02/22-rdf-syntax-ns#type>', '<http://dilab77.ionio.gr/swp/c16mika/vocab#Διδάσκων%20>'], ['<http://dilab77.ionio.gr/swp/c16mika/resource/Εργαστήριο%20Αρεταίος>', '<http://www.w3.org/1999/02/22-rdf-syntax-ns#type>', '<http://dilab77.ionio.gr/swp/c16mika/vocab#Αίθουσα>'], ['<http://dilab77.ionio.gr/swp/c16mika/resource/Εργαστήριο%20Αρεταίος>', '<http://www.w3.org/1999/02/22-rdf-syntax-ns#type>', '<http://dilab77.ionio.gr/swp/c16mika/vocab#Αίθουσα>'], ['<http://dilab77.ionio.gr/swp/c16mika/resource/Εργαστήριο%20Αρεταίος>', '<http://www.w3.org/1999/02/22-rdf-syntax-ns#type>', '<http://dilab77.ionio.gr/swp/c16mika/vocab#Αίθουσα>'], ['<http://dilab77.ionio.gr/swp/c16mika/resource/Εργαστήριο%20Αρεταίος>', '<http://www.w3.org/1999/02/22-rdf-syntax-ns#type>', '<http://dilab77.ionio.gr/swp/c16mika/vocab#Αίθουσα>'], ['<http://dilab77.ionio.gr/swp/c16mika/resource/Π.Βλάμος>', '<http://www.w3.org/1999/02/22-rdf-syntax-ns#type>', '<http://dilab77.ionio.gr/swp/c16mika/vocab#Διδάσκων%20>'], ['<http://dilab77.ionio.gr/swp/c16mika/resource/Βιοπληροφορική>', '<http://www.w3.org/1999/02/22-rdf-syntax-ns#type>', '<http://dilab77.ionio.gr/swp/c16mika/vocab#Διδάσκων%20>'], ['<http://dilab77.ionio.gr/swp/c16mika/resource/2>', '<http://www.w3.org/1999/02/22-rdf-syntax-ns#type>', '<http://dilab77.ionio.gr/swp/c16mika/vocab#Αίθουσα>'], ['<http://dilab77.ionio.gr/swp/c16mika/resource/2>', '<http://www.w3.org/1999/02/22-rdf-syntax-ns#type>', '<http://dilab77.ionio.gr/swp/c16mika/vocab#Αίθουσα>'], ['<http://dilab77.ionio.gr/swp/c16mika/resource/2>', '<http://www.w3.org/1999/02/22-rdf-syntax-ns#type>', '<http://dilab77.ionio.gr/swp/c16mika/vocab#Αίθουσα>'], ['<http://dilab77.ionio.gr/swp/c16mika/resource/2>', '<http://www.w3.org/1999/02/22-rdf-syntax-ns#type>', '<http://dilab77.ionio.gr/swp/c16mika/vocab#Αίθουσα>'], ['<http://dilab77.ionio.gr/swp/c16mika/resource/Α.Πατέλη>', '<http://www.w3.org/1999/02/22-rdf-syntax-ns#type>', '<http://dilab77.ionio.gr/swp/c16mika/vocab#Διδάσκων%20>'], ['<http://dilab77.ionio.gr/swp/c16mika/resource/Ηλεκτρονική%20Επιχειρηματικότητα>', '<http://www.w3.org/1999/02/22-rdf-syntax-ns#type>', '<http://dilab77.ionio.gr/swp/c16mika/vocab#Διδάσκων%20>'], ['<http://dilab77.ionio.gr/swp/c16mika/resource/2>', '<http://www.w3.org/1999/02/22-rdf-syntax-ns#type>', '<http://dilab77.ionio.gr/swp/c16mika/vocab#Αίθουσα>'], ['<http://dilab77.ionio.gr/swp/c16mika/resource/2>', '<http://www.w3.org/1999/02/22-rdf-syntax-ns#type>', '<http://dilab77.ionio.gr/swp/c16mika/vocab#Αίθουσα>'], ['<http://dilab77.ionio.gr/swp/c16mika/resource/2>', '<http://www.w3.org/1999/02/22-rdf-syntax-ns#type>', '<http://dilab77.ionio.gr/swp/c16mika/vocab#Αίθουσα>'], ['<http://dilab77.ionio.gr/swp/c16mika/resource/2>', '<http://www.w3.org/1999/02/22-rdf-syntax-ns#type>', '<http://dilab77.ionio.gr/swp/c16mika/vocab#Αίθουσα>'], ['<http://dilab77.ionio.gr/swp/c16mika/resource/Μ.Αυλωνίτης>', '<http://www.w3.org/1999/02/22-rdf-syntax-ns#type>', '<http://dilab77.ionio.gr/swp/c16mika/vocab#Διδάσκων%20>'], ['<http://dilab77.ionio.gr/swp/c16mika/resource/Προσομοίωση%20και%20Μοντελοποίηση>', '<http://www.w3.org/1999/02/22-rdf-syntax-ns#type>', '<http://dilab77.ionio.gr/swp/c16mika/vocab#Διδάσκων%20>'], ['<http://dilab77.ionio.gr/swp/c16mika/resource/2>', '<http://www.w3.org/1999/02/22-rdf-syntax-ns#type>', '<http://dilab77.ionio.gr/swp/c16mika/vocab#Αίθουσα>'], ['<http://dilab77.ionio.gr/swp/c16mika/resource/2>', '<http://www.w3.org/1999/02/22-rdf-syntax-ns#type>', '<http://dilab77.ionio.gr/swp/c16mika/vocab#Αίθουσα>'], ['<http://dilab77.ionio.gr/swp/c16mika/resource/2>', '<http://www.w3.org/1999/02/22-rdf-syntax-ns#type>', '<http://dilab77.ionio.gr/swp/c16mika/vocab#Αίθουσα>'], ['<http://dilab77.ionio.gr/swp/c16mika/resource/2>', '<http://www.w3.org/1999/02/22-rdf-syntax-ns#type>', '<http://dilab77.ionio.gr/swp/c16mika/vocab#Αίθουσα>'], ['<http://dilab77.ionio.gr/swp/c16mika/resource/Φ.Μυλωνάς>', '<http://www.w3.org/1999/02/22-rdf-syntax-ns#type>', '<http://dilab77.ionio.gr/swp/c16mika/vocab#Διδάσκων%20>'], ['<http://dilab77.ionio.gr/swp/c16mika/resource/Εξόρυξη%20Δεδομένων%20και%20Διαχείρηση%20Γνώσης>', '<http://www.w3.org/1999/02/22-rdf-syntax-ns#type>', '<http://dilab77.ionio.gr/swp/c16mika/vocab#Διδάσκων%20>'], ['<http://dilab77.ionio.gr/swp/c16mika/resource/3>', '<http://www.w3.org/1999/02/22-rdf-syntax-ns#type>', '<http://dilab77.ionio.gr/swp/c16mika/vocab#Αίθουσα>']]\n"
     ]
    }
   ],
   "source": [
    "triples = []\n",
    "for s,p,o in list :\n",
    "    if (p == 'http://dilab77.ionio.gr/swp/c16mika/vocab#Έναρξη')  or (p == 'http://dilab77.ionio.gr/swp/c16mika/vocab#Λήξη'):\n",
    "        o =  '\"' + o + ':00\"' + '^^<http://www.w3.org/2001/XMLSchema#time>'\n",
    "    elif   p == 'http://dilab77.ionio.gr/swp/c16mika/vocab#Ημέρα':\n",
    "         o = '\"' + o + '\"'\n",
    "    else :\n",
    "        o = '<' + o + '>'\n",
    "    p = '<' + p + '>'\n",
    "    triples.append([s,p,o])\n",
    "\n",
    "#επιπλέον τριάδα για τα uri: Μάθημα , Διδάσκων, Αίθουσα    \n",
    "for s,p,o in list :\n",
    "    if (p == 'http://dilab77.ionio.gr/swp/c16mika/vocab#Διδάσκων%20'):\n",
    "        uri = o\n",
    "        tipos = 'http://www.w3.org/1999/02/22-rdf-syntax-ns#type'\n",
    "        klasi = '<http://dilab77.ionio.gr/swp/c16mika/vocab#Διδάσκων%20>'\n",
    "    elif (p == 'http://dilab77.ionio.gr/swp/c16mika/vocab#Μάθημα'):\n",
    "        uri = o \n",
    "        tipos = 'http://www.w3.org/1999/02/22-rdf-syntax-ns#type'\n",
    "        o = '<http://dilab77.ionio.gr/swp/c16mika/vocab#Μάθημα>'    \n",
    "    elif (p == 'http://dilab77.ionio.gr/swp/c16mika/vocab#Αίθουσα'):\n",
    "        uri = o \n",
    "        tipos = 'http://www.w3.org/1999/02/22-rdf-syntax-ns#type'\n",
    "        klasi = '<http://dilab77.ionio.gr/swp/c16mika/vocab#Αίθουσα>'     \n",
    "    s = '<' + uri + '>'\n",
    "    o = klasi \n",
    "    p = '<' + tipos + '>'\n",
    "  \n",
    "    triples.append([s,p,o])    \n",
    "print(triples)\n"
   ]
  },
  {
   "cell_type": "markdown",
   "metadata": {
    "deletable": true,
    "editable": true
   },
   "source": [
    "## 3. Παραγωγή αρχείου N-triples\n",
    "\n",
    "Στο τελευταίο αυτό βήμα, αποθηκεύστε το περιεχόμενο των τριάδων σε αρχείο κειμένου σύμφωνα με το πρότυπο N-Triples. Το αρχείο σας θα πρέπει να έχει κατάληξη `.nt` .\n",
    "\n",
    "**Θυμηθείτε**: κάθε γραμμή ενός αρχείου N-Triples περιέχει **ακριβώς μία** τριάδα, με τα μέρη των τριάδων χωρισμένα με κενό (space). Η γραμμή τελειώνει με την **τελεία**."
   ]
  },
  {
   "cell_type": "markdown",
   "metadata": {
    "deletable": true,
    "editable": true
   },
   "source": [
    "#### Υποδειξη: μορφοποίηση strings\n",
    "\n",
    "Μια απλή μορφοποίηση ενός string μπορεί να γίνει ως εξής\n",
    "\n",
    "```python\n",
    "a = 1\n",
    "b = 2\n",
    "print('{}+{}={}'.format(a,b,a+b))\n",
    "```\n",
    "\n",
    "Χρησιμοποιήστε τη `format()` όπως στο παράδειγμα για να φτιάξετε κάθε γραμμή του αρχείου N-Triples. Όταν φτάσετε στο επιθυμητό αποτέλεσμα, αντικαταστήστε την `print()` με τη μέθοδο `write()` του αρχείου εξόδου. Προσοχή: η `write()` δεν προσθέτει αυτόματα χαρακτήρα νέας γραμμής `\\n`, πρέπει να τον βάλετε εσείς!"
   ]
  },
  {
   "cell_type": "code",
   "execution_count": 123,
   "metadata": {
    "collapsed": false,
    "deletable": true,
    "editable": true
   },
   "outputs": [],
   "source": [
    " with open('schedule-data.nt','w') as ofp:\n",
    "    for s,p,o in triples:\n",
    "        line  = s +' '+ p +' ' + o + '.' + '\\n'\n",
    "        ofp.write(line)\n"
   ]
  },
  {
   "cell_type": "markdown",
   "metadata": {
    "deletable": true,
    "editable": true
   },
   "source": [
    "## 4. Είναι το αρχείο σας έγκυρο;\n",
    "\n",
    "Βεβαιωθείτε ότι το αρχείο σας έχει έγκυρη μορφή N-Triples. Αυτό θα το κάνετε μέσω του εργαλείου `riot`. Στο επόμενο κελί εισάγετε το εξής:\n",
    "\n",
    "`!riot --validate yourfile.nt`\n",
    "\n",
    "Περιμένετε μέχρι να ολοκληρωθεί η εκτέλεση (να μην φαίνεται `In [*]`). **Αν το αρχείο σας είναι ΟΚ, δεν θα δείτε τίποτα ως έξοδο!**"
   ]
  },
  {
   "cell_type": "code",
   "execution_count": 124,
   "metadata": {
    "collapsed": false,
    "deletable": true,
    "editable": true
   },
   "outputs": [],
   "source": [
    "!riot --validate schedule-data.nt"
   ]
  },
  {
   "cell_type": "markdown",
   "metadata": {
    "deletable": true,
    "editable": true
   },
   "source": [
    "## 5. Δεδομένα RDF σε άλλες μορφές.\n",
    "\n",
    "Εφόσον έχετε έγκυρο αρχείο N-Triples, μπορείτε να το μετατρέψετε σε διάφορες άλλες μορφές. Το εργαλείο `riot` θα σας βοηθήσει πάλι:\n",
    "\n",
    "Δοκιμάστε την εντολή `!riot --output=FMT yourfile.nt`, βάζοντας στη θέση του `FMT` τα `turtle` και `rdfxml`. Η έξοδος θα φανεί στην οθόνη σας.\n",
    "\n",
    "Αν θέλετε να σώσετε σε νέο αρχείο την καινούργια μορφή, δώστε π.χ.:\n",
    "\n",
    "`!riot --output=turtle yourfile.nt > yourfile.ttl`"
   ]
  },
  {
   "cell_type": "code",
   "execution_count": 120,
   "metadata": {
    "collapsed": false,
    "deletable": true,
    "editable": true,
    "scrolled": true
   },
   "outputs": [],
   "source": [
    "# δοκιμάστε με output=turtle ή output=rdfxml\n",
    "!riot --output=turtle triples.nt > triples.ttl"
   ]
  },
  {
   "cell_type": "code",
   "execution_count": 15,
   "metadata": {
    "collapsed": false,
    "deletable": true,
    "editable": true
   },
   "outputs": [],
   "source": [
    "# δοκιμάστε να μετατρέψετε σε νέο αρχείο μορφής Turtle\n"
   ]
  },
  {
   "cell_type": "markdown",
   "metadata": {
    "deletable": true,
    "editable": true
   },
   "source": [
    "## Το τέλος του ωρολογίου προγράμματος.\n",
    "\n",
    "**Συγχαρητήρια!!** Μόλις περάσατε από τα ad hoc σημασιολογικά δεδομένα σε πρότυπες μορφές αναπαράστασης. Τώρα πλέον μπορείτε να επεξεργαστείτε τα δεδομένα σας με όλα τα διαθέσιμα εργαλεία του Σημασιολογικού Ιστού!"
   ]
  }
 ],
 "metadata": {
  "kernelspec": {
   "display_name": "Python 3",
   "language": "python",
   "name": "python3"
  },
  "language_info": {
   "codemirror_mode": {
    "name": "ipython",
    "version": 3
   },
   "file_extension": ".py",
   "mimetype": "text/x-python",
   "name": "python",
   "nbconvert_exporter": "python",
   "pygments_lexer": "ipython3",
   "version": "3.4.4"
  }
 },
 "nbformat": 4,
 "nbformat_minor": 0
}
